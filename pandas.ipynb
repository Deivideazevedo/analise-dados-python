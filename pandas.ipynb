{
 "cells": [
  {
   "cell_type": "markdown",
   "metadata": {},
   "source": [
    "### ***Series***\n",
    "Dentre todos os parâmetros esperados, somente um é obrigatório para se criar uma Series com dados (se for uma Series sem dados, nenhum parâmetro é obrigatório), o parâmetro data=XXXX. Esse parâmetro pode receber, um simples valor (inteiro, string, float), uma lista de valores, ou um dicionário, vejamos os exemplos."
   ]
  },
  {
   "cell_type": "code",
   "execution_count": 2,
   "metadata": {},
   "outputs": [],
   "source": [
    "# Cria uma Series com o valor a\n",
    "import pandas as pd\n",
    "\n",
    "pd.Series(data=5) "
   ]
  },
  {
   "cell_type": "code",
   "execution_count": 1,
   "metadata": {},
   "outputs": [
    {
     "data": {
      "text/plain": [
       "0    Howard\n",
       "1       Ian\n",
       "2     Peter\n",
       "3     Jonah\n",
       "4    Kellie\n",
       "dtype: object"
      ]
     },
     "execution_count": 1,
     "metadata": {},
     "output_type": "execute_result"
    }
   ],
   "source": [
    "# Cria uma Series com uma lista de nomes\n",
    "import pandas as pd\n",
    "\n",
    "lista_nomes = 'Howard Ian Peter Jonah Kellie'.split()\n",
    "pd.Series(lista_nomes)"
   ]
  },
  {
   "cell_type": "code",
   "execution_count": null,
   "metadata": {},
   "outputs": [],
   "source": [
    "# Cria uma Series com um dicionário\n",
    "import pandas as pd\n",
    "\n",
    "dados = {\n",
    "    'nome1': 'Howard',\n",
    "    'nome2': 'Ian',\n",
    "    'nome3': 'Peter',\n",
    "    'nome4': 'Jonah',\n",
    "    'nome5': 'Kellie',\n",
    "}\n",
    "\n",
    "pd.Series(dados)"
   ]
  },
  {
   "cell_type": "code",
   "execution_count": null,
   "metadata": {},
   "outputs": [],
   "source": [
    "# Outra forma de construir a Series é passando os dados e os rótulos que desejamos usar. Veja na entrada 5 essa construção, na qual utilizaoms uma lista de supostos cpfs para rotular os valores da Series.\n",
    "import pandas as pd\n",
    "\n",
    "cpfs = '111.111.111-11 222.222.222-22 333.333.333-33 444.444.444-44 555.555.555-55'.split()\n",
    "\n",
    "pd.Series(lista_nomes, index=cpfs)"
   ]
  },
  {
   "cell_type": "code",
   "execution_count": null,
   "metadata": {},
   "outputs": [],
   "source": [
    "# Extraindo informações de uma Series\n",
    "\n",
    "series_dados = pd.Series([10.2, -1, None, 15, 23.4])\n",
    "\n",
    "print('Quantidade de linhas = ', series_dados.shape) # Retorna uma tupla com o número de linhas\n",
    "print('Tipo de dados', series_dados.dtypes) # Retorna o tipo de dados, se for misto será object\n",
    "print('Os valores são únicos?', series_dados.is_unique) # Verifica se os valores são únicos (sem duplicações)\n",
    "print('Existem valores nulos?', series_dados.hasnans) # Verifica se existem valores nulos\n",
    "print('Quantos valores existem?', series_dados.count()) # Conta quantas valores existem (excluí os nulos)\n",
    "\n",
    "print('Qual o menor valor?', series_dados.min()) # Extrai o menor valor da Series (nesse caso os dados precisam ser do mesmo tipo)\n",
    "print('Qual o maior valor?', series_dados.max()) # Extrai o valor máximo, com a mesma condição do mínimo\n",
    "print('Qual a média aritmética?', series_dados.mean()) # Extrai a média aritmética de uma Series numérica\n",
    "print('Qual o desvio padrão?', series_dados.std()) # Extrai o desvio padrão de uma Series numérica\n",
    "print('Qual a mediana?', series_dados.median()) # Extrai a mediana de uma Series numérica\n",
    "\n",
    "print('\\nResumo:\\n', series_dados.describe()) # Exibe um resumo sobre os dados na Series"
   ]
  },
  {
   "cell_type": "markdown",
   "metadata": {},
   "source": [
    "#### ***Dataframe***\n",
    "Dentre todos os parâmetros esperados, somente um é obrigatório para se criar um DataFrame com dados, o parâmetro data=XXXX. Esse parâmetro pode receber, um objeto iterável, como uma lista, tupla, um dicionário ou um DataFrame, vejamos os exemplos."
   ]
  },
  {
   "cell_type": "code",
   "execution_count": null,
   "metadata": {},
   "outputs": [],
   "source": [
    "lista_nomes = 'Howard Ian Peter Jonah Kellie'.split()\n",
    "lista_cpfs = '111.111.111-11 222.222.222-22 333.333.333-33 444.444.444-44 555.555.555-55'.split()\n",
    "lista_emails = 'risus.varius@dictumPhasellusin.ca Nunc@vulputate.ca fames.ac.turpis@cursusa.org non@felisullamcorper.org eget.dictum.placerat@necluctus.co.uk'.split()\n",
    "lista_idades = [32, 22, 25, 29, 38]\n",
    "pessoas = pd.DataFrame(lista_nomes, columns=['nome'])\n",
    "display(pessoas)\n",
    "\n",
    "pessoas.index = lista_cpfs\n",
    "display(pessoas)\n",
    "\n",
    "# OU\n",
    "\n",
    "pessoas= pd.DataFrame(lista_nomes, columns=['nome'], index=lista_cpfs) \n",
    "display(pessoas)"
   ]
  },
  {
   "cell_type": "code",
   "execution_count": null,
   "metadata": {},
   "outputs": [],
   "source": [
    "import pandas as pd\n",
    "\n",
    "# Exemplo de DataFrame\n",
    "dados = {'Nome': ['Ana', 'Bruno', 'Carlos'],\n",
    "         'Idade': [23, 35, 30],\n",
    "         'Cidade': ['São Paulo', 'Rio de Janeiro', 'Belo Horizonte']}\n",
    "\n",
    "df = pd.DataFrame(dados)\n",
    "df_novo_index = df.set_index('Nome')\n",
    "df_novo_index"
   ]
  }
 ],
 "metadata": {
  "kernelspec": {
   "display_name": "Python 3",
   "language": "python",
   "name": "python3"
  },
  "language_info": {
   "codemirror_mode": {
    "name": "ipython",
    "version": 3
   },
   "file_extension": ".py",
   "mimetype": "text/x-python",
   "name": "python",
   "nbconvert_exporter": "python",
   "pygments_lexer": "ipython3",
   "version": "3.12.7"
  }
 },
 "nbformat": 4,
 "nbformat_minor": 2
}
