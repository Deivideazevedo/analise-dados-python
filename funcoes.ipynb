{
 "cells": [
  {
   "cell_type": "markdown",
   "metadata": {},
   "source": [
    "# FUNÇÕES COM PARÂMETROS DEFINIDOS E INDEFINIDOS\n",
    "Sobre os argumentos que uma função pode receber, para nosso estudo, vamos classificar em seis grupos:"
   ]
  },
  {
   "cell_type": "code",
   "execution_count": null,
   "metadata": {},
   "outputs": [],
   "source": [
    "# 1. Parâmetro posicional, obrigatório, sem valor default (padrão).\n",
    "\n",
    "def somar(a, b):\n",
    "    return a + b\n",
    "\n",
    "print(somar(2,5))\n",
    "a = '20'\n",
    "b = '25'\n",
    "print(a ,b, sep=\"  \")"
   ]
  },
  {
   "cell_type": "code",
   "execution_count": null,
   "metadata": {},
   "outputs": [],
   "source": [
    "# 2. Parâmetro posicional, obrigatório, com valor default (padrão).\n",
    "def calcular_desconto(valor, desconto=0): # O parâmetro desconto possui zero valor default\n",
    "    valor_com_desconto = valor - (valor * desconto)\n",
    "    return valor_com_desconto\n",
    "\n",
    "valor1 = calcular_desconto(100) # Não aplicar nenhum desconto\n",
    "valor2 = calcular_desconto(100, 0.25) # Aplicar desconto de 25%\n",
    "\n",
    "print(f\"\\nPrimeiro valor a ser pago = {valor1}\")\n",
    "print(f\"\\nSegundo valor a ser pago = {valor2}\")"
   ]
  },
  {
   "cell_type": "code",
   "execution_count": null,
   "metadata": {},
   "outputs": [],
   "source": [
    "# 3. Parâmetro nominal, obrigatório, sem valor default (padrão).\n",
    "def converter_maiuscula(texto, flag_maiuscula):\n",
    "    if flag_maiuscula:\n",
    "        return texto.upper()\n",
    "    else:\n",
    "        return texto.lower()\n",
    "\n",
    "\n",
    "texto = converter_maiuscula(flag_maiuscula=True, texto=\"João\") # Passagem nominal de parâmetros\n",
    "print(texto)"
   ]
  },
  {
   "cell_type": "code",
   "execution_count": null,
   "metadata": {},
   "outputs": [],
   "source": [
    "# 4. Parâmetro nominal, obrigatório, com valor default (padrão).\n",
    "def converter_minuscula(texto, flag_minuscula=True): # O parâmetro flag_minuscula possui True como valor default\n",
    "    if flag_minuscula:\n",
    "        return texto.lower()\n",
    "    else:\n",
    "        return texto.upper()\n",
    "\n",
    "\n",
    "texto1 = converter_minuscula(flag_minuscula=True, texto=\"LINGUAGEM de Programação\")\n",
    "texto2 = converter_minuscula(texto=\"LINGUAGEM de Programação\")\n",
    "\n",
    "print(f\"\\nTexto 1 = {texto1}\")\n",
    "print(f\"\\nTexto 2 = {texto2}\")"
   ]
  },
  {
   "cell_type": "code",
   "execution_count": null,
   "metadata": {},
   "outputs": [],
   "source": [
    "# 5. Parâmetro posicional e não obrigatório (args).\n",
    "def imprimir_parametros(*args):\n",
    "    qtde_parametros = len(args)\n",
    "    print(f\"Quantidade de parâmetros = {qtde_parametros}\\n\")\n",
    "    \n",
    "    for i, valor in enumerate(args):\n",
    "        print(f\"Posição = {i}, valor = {valor}\")\n",
    "\n",
    "        \n",
    "print(\"\\nChamada 1\")        \n",
    "imprimir_parametros(\"São Paulo\", 10, 23.78, \"João\")\n",
    "\n",
    "print(\"\\n\\nChamada 2\")        \n",
    "imprimir_parametros(10, \"São Paulo\")"
   ]
  },
  {
   "cell_type": "code",
   "execution_count": null,
   "metadata": {},
   "outputs": [],
   "source": [
    "# 6. Parâmetro nominal e não obrigatório (kwargs).\n",
    "def imprimir_parametros(**kwargs):\n",
    "    print(f\"Tipo de objeto recebido = {type(kwargs)}\\n\")\n",
    "    qtde_parametros = len(kwargs)\n",
    "    print(f\"Quantidade de parâmetros = {qtde_parametros}\")\n",
    "    \n",
    "    for chave, valor in kwargs.items():\n",
    "        print(f\"variável = {chave}, valor = {valor}\")\n",
    "\n",
    "        \n",
    "print(\"\\nChamada 1\")        \n",
    "imprimir_parametros(cidade=\"São Paulo\", idade=33, nome=\"João\")\n",
    "\n",
    "print(\"\\nChamada 2\")        \n",
    "imprimir_parametros(desconto=10, valor=100)"
   ]
  },
  {
   "cell_type": "code",
   "execution_count": null,
   "metadata": {},
   "outputs": [],
   "source": [
    "# Função Anonima\n",
    "vlr1 = (lambda x, y: x + y)(x=3, y=2)\n",
    "\n",
    "somar = lambda x, y: x + y\n",
    "vlr2 = somar(x=5, y=3)\n",
    "\n",
    "print(vlr1)\n",
    "print(vlr2)"
   ]
  },
  {
   "cell_type": "code",
   "execution_count": null,
   "metadata": {},
   "outputs": [],
   "source": []
  }
 ],
 "metadata": {
  "kernelspec": {
   "display_name": "Python 3",
   "language": "python",
   "name": "python3"
  },
  "language_info": {
   "codemirror_mode": {
    "name": "ipython",
    "version": 3
   },
   "file_extension": ".py",
   "mimetype": "text/x-python",
   "name": "python",
   "nbconvert_exporter": "python",
   "pygments_lexer": "ipython3",
   "version": "3.12.6"
  }
 },
 "nbformat": 4,
 "nbformat_minor": 2
}
