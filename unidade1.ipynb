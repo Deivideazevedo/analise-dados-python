{
 "cells": [
  {
   "cell_type": "markdown",
   "metadata": {},
   "source": [
    "<link rel=\"stylesheet\" href=\"style.css\">\n",
    "\n",
    "# <h1 id=\"titulo\">ESTRUTURAS DE DADOS EM PYTHON</h1>\n",
    "\n",
    "<span id=\"subtitulo\">Cada grupo pode possuir mais de um objeto. Vamos estudar esses objetos a seguinte ordem:</span>\n",
    "\n",
    "* Objetos do tipo sequência: texto, listas e tuplas.\n",
    "* Objetos do tipo set (conjunto).\n",
    "* Objetos do tipo mapping (dicionário).\n",
    "* Objetos do tipo array NumPy. **"
   ]
  },
  {
   "cell_type": "markdown",
   "metadata": {},
   "source": [
    "| Operação    | Resultado                                             | Observação                                                           |\n",
    "|-------------|-------------------------------------------------------|----------------------------------------------------------------------|\n",
    "| x in s      | True caso um item de s seja igual a x, senão False    | True caso um item de s seja igual a x, senão False                   |\n",
    "| s + t       | Concatenação de s e t                                 | Concatena (junta) duas sequências                                    |\n",
    "| n * s       | Adiciona s a si mesmo n vezes                         | Multiplica a sequência n vezes                                        |\n",
    "| s[i]        | Acessa o valor guardado na posição i da sequência     | O primeiro valor ocupa a posição 0                                    |\n",
    "| s[i:j]      | Acessa os valores da posição i até j                  | O valor j não está incluído                                           |\n",
    "| s[i:j:k]    | Acessa os valores da posição i até j, com passo k     | O valor j não está incluído                                           |\n",
    "| len(s)      | Comprimento de s                                      | Função built-in usada para saber o tamanho da sequência               |\n",
    "| min(s)      | Menor valor de s                                      | Função built-in usada para saber o menor valor da sequência           |\n",
    "| max(s)      | Maior valor de s                                      | Função built-in usada para saber o maior valor da sequência           |\n",
    "| s.count(x)  | Número total de ocorrência de x em s                 | Conta quantas vezes x foi encontrado na sequência                    |\n"
   ]
  },
  {
   "cell_type": "code",
   "execution_count": null,
   "metadata": {},
   "outputs": [],
   "source": [
    "# Manipulação de string\n",
    "\n",
    "texto = \"Aprendendo Python na disciplina de linguagem de programação.\"\n",
    "\n",
    "print(f\"Tamanho do texto = {len(texto)}\")\n",
    "print(f\"Python in texto = {'Python' in texto}\")\n",
    "print(f\"Quantidade de y no texto = {texto.count('y')}\")\n",
    "print(f\"As 5 primeiras letras são: {texto[0:6]}\")"
   ]
  },
  {
   "cell_type": "markdown",
   "metadata": {},
   "source": [
    "<link rel=\"stylesheet\" href=\"style.css\">\n",
    "\n",
    "# <h1 id=\"titulo\">Listas</h1>\n",
    "\n",
    "1. *Usando um par de colchetes para denotar uma lista vazia: lista1 = []*\n",
    "2. *Usando um par de colchetes e elementos separados por vírgulas: lista2 = ['a', 'b', 'c']*\n",
    "3. *Usando uma \"list comprehension\": [x for x in iterable]*\n",
    "4. *Usando o construtor de tipo: list()*\n",
    "\n"
   ]
  },
  {
   "cell_type": "code",
   "execution_count": null,
   "metadata": {},
   "outputs": [],
   "source": [
    "# Criação\n",
    "\n",
    "vogais = ['a', 'e', 'i', 'o', 'u'] \n",
    "\n",
    "for vogal in vogais:\n",
    "    print (f'Posição = {vogais.index(vogal)}, valor = {vogal}')\n",
    "\n",
    "# OU\n",
    "\n",
    "vogais = []\n",
    "print(f\"\\nTipo do objeto vogais = {type(vogais)}\")\n",
    "\n",
    "vogais.append('a')\n",
    "vogais.append('e')\n",
    "vogais.append('i')\n",
    "vogais.append('o')\n",
    "vogais.append('u')\n",
    "\n",
    "for p, x in enumerate(vogais):\n",
    "    print(f\"Posição = {p}, valor = {x}\")\n",
    "\n",
    "print(vogais)"
   ]
  },
  {
   "cell_type": "code",
   "execution_count": null,
   "metadata": {},
   "outputs": [],
   "source": [
    "# Manipulação de Listas\n",
    "\n",
    "lista = ['Python', 30.61, \"Java\", 51 , ['a', 'b', 20], \"maça\"]\n",
    "\n",
    "print(f\"Tamanho da lista = {len(lista)}\")\n",
    "\n",
    "for i, item in enumerate(lista):\n",
    "    print(f\"Posição = {i},\\t valor = {item},  tipo individual = {type(item)}\")\n",
    "\n",
    "print(\"\\nExemplos de slices:\\n\")\n",
    "\n",
    "print(\"lista[1] = \",    lista[1])\n",
    "print(\"lista[0:2] = \",  lista[0:2])\n",
    "print(\"lista[:2] = \",   lista[:2])\n",
    "print(\"lista[3:5] = \",  lista[3:5])\n",
    "print(\"lista[3:6] = \",  lista[3:6])\n",
    "print(\"lista[3:] = \",   lista[3:])\n",
    "print(\"lista[-2] = \",   lista[-2])\n",
    "print(\"lista[-1] = \",   lista[-1])\n",
    "print(\"lista[4][1] = \", lista[4][1])"
   ]
  },
  {
   "cell_type": "code",
   "execution_count": null,
   "metadata": {},
   "outputs": [],
   "source": [
    "# List comprehension (Compreensões de lista)\n",
    "\n",
    "linguagens = [\"Python\", \"Java\", \"JavaScript\", \"C\", \"C#\", \"C++\", \"Swift\", \"Go\", \"Kotlin\"]\n",
    "print(\"Antes da listcomp = \", linguagens)\n",
    "\n",
    "linguagens = [item.lower() for item in linguagens]\n",
    "print(\"Depois da listcomp = \", linguagens)\n",
    "\n",
    "# OU\n",
    "for i, item in enumerate(linguagens):\n",
    "    linguagens[i] = item.upper()\n",
    "    \n",
    "print(\"\\nDepois do for listcomp = \", linguagens)\n"
   ]
  },
  {
   "cell_type": "code",
   "execution_count": null,
   "metadata": {},
   "outputs": [],
   "source": [
    "# List comprehension (Compreensões de lista com condições)\n",
    "\n",
    "linguagens = '''NodeJS Python Java JavaScript C C# C++ Swift Go Kotlin'''.split()\n",
    "\n",
    "java_filtrado = [item for item in linguagens if 'Java' in item]\n",
    "\n",
    "print(f'Lista filtrado pelo nome Java: {java_filtrado}')\n",
    "\n"
   ]
  },
  {
   "cell_type": "markdown",
   "metadata": {},
   "source": [
    "<link rel=\"stylesheet\" href=\"style.css\">\n",
    "\n",
    "# <h1 id=\"titulo\">Função map()</h1>\n",
    "\n",
    "*A função map() é utilizada para aplicar uma determinada função em cada item de um objeto iterável. Para que essa transformação seja feita, a função map() exige que sejam passados dois parâmetros: a função e o objeto iterável.*"
   ]
  },
  {
   "cell_type": "code",
   "execution_count": null,
   "metadata": {},
   "outputs": [],
   "source": [
    "# Exemplo 1\n",
    "\n",
    "print(\"Exemplo 1\")\n",
    "linguagens = '''Python Java JavaScript C C# C++ Swift Go Kotlin'''.split()\n",
    "\n",
    "nova_lista = map(lambda x: x.lower(), linguagens)\n",
    "print(f\"A nova lista é = {nova_lista}\\n\")\n",
    "\n",
    "nova_lista = list(nova_lista)\n",
    "print(f\"Agora sim, a nova lista é = {nova_lista}\")"
   ]
  },
  {
   "cell_type": "code",
   "execution_count": null,
   "metadata": {},
   "outputs": [],
   "source": [
    "# Exemplo 2\n",
    "print(\"\\n\\nExemplo 2\")\n",
    "numeros = [0, 1, 2, 3, 4, 5]\n",
    "\n",
    "quadrados = list(map(lambda x: x*x, numeros))\n",
    "print(f\"Lista com o número elevado a ele mesmo = {quadrados}\\n\")"
   ]
  },
  {
   "cell_type": "markdown",
   "metadata": {},
   "source": [
    "<link rel=\"stylesheet\" href=\"style.css\">\n",
    "\n",
    "# <h1 id=\"titulo\">Função filter()</h1>\n",
    "\n",
    "\n",
    "*A função filter() tem as mesmas características da função map(), mas, em vez de usarmos uma função para transformar os valores da lista, nós a usamos para filtrar*\n"
   ]
  },
  {
   "cell_type": "code",
   "execution_count": null,
   "metadata": {},
   "outputs": [],
   "source": [
    "# Exemplo 1 \n",
    "\n",
    "numeros = list(range(0,21))\n",
    "print(numeros)\n",
    "\n",
    "numeros_pares = list(filter(lambda valor: valor % 2 == 0, numeros))\n",
    "print(numeros_pares)\n"
   ]
  },
  {
   "cell_type": "code",
   "execution_count": null,
   "metadata": {},
   "outputs": [],
   "source": [
    "# Ordenação\n",
    "\n",
    "lista = [10, 4, 1, 15, -3]\n",
    "\n",
    "lista_ordenada1 = sorted(lista)\n",
    "lista_ordenada2 = lista.sort()\n",
    "\n",
    "print('lista = ', lista, '\\n')\n",
    "print('lista_ordenada1 = ', lista_ordenada1)\n",
    "print('lista_ordenada2 = ', lista_ordenada2)\n",
    "print('lista = ', lista)"
   ]
  },
  {
   "cell_type": "markdown",
   "metadata": {},
   "source": [
    "<link rel=\"stylesheet\" href=\"style.css\">\n",
    "\n",
    "# <h1 id=\"titulo\">TUPLAS</h1>\n",
    "*São estruturas de dados do grupo de objetos do tipo sequência, contudo, imutaveis, ao contrario das listas que são mutaveis*\n",
    "\n",
    "<span id=\"subtitulo\">Em Python, as tuplas podem ser construídas de três maneiras:</span>\n",
    "\n",
    "1. *Usando um par de parênteses para denotar uma tupla vazia: tupla1 = ()*\n",
    "2. *Usando um par de parênteses e elementos separados por vírgulas: tupla2 = ('a', 'b', 'c')*\n",
    "3. *Usando o construtor de tipo: tuple()*\n"
   ]
  },
  {
   "cell_type": "code",
   "execution_count": null,
   "metadata": {},
   "outputs": [],
   "source": [
    "# Exemplo\n",
    "\n",
    "vogais = ('a', 'e', 'i', 'o', 'u')\n",
    "print(f\"Tipo do objeto vogais = {type(vogais)}\")\n",
    "\n",
    "for p, x in enumerate(vogais):\n",
    "    print(f\"Posição = {p}, valor = {x}\")"
   ]
  },
  {
   "cell_type": "markdown",
   "metadata": {},
   "source": [
    "<link rel=\"stylesheet\" href=\"style.css\">\n",
    "\n",
    "# <h1 id=\"titulo\">Objetos do tipo Set (Conjuntos)</h1>\n",
    "\n",
    "*Um objeto do tipo set habilita operações matemáticas de conjuntos, tais como: união, intersecção, diferenteça, etc. Esse tipo de estrutura pode ser usado, portanto, em testes de associação e remoção de valores duplicados de uma sequência*\n",
    "\n",
    "\n",
    "<span id=\"subtitulo\">Em Python, os objetos do tipo set podem ser construídos destas maneiras:</span>\n",
    "\n",
    "* Usando um par de chaves e elementos separados por vírgulas: set1 = {'a', 'b', 'c'}\n",
    "* Usando o construtor de tipo: set(iterable)"
   ]
  },
  {
   "cell_type": "code",
   "execution_count": null,
   "metadata": {},
   "outputs": [],
   "source": [
    "# Criação\n",
    "\n",
    "vogais_1 = {'aeiou'} # sem uso do construtor\n",
    "print(type(vogais_1), vogais_1)\n",
    "\n",
    "vogais_2 = set('aeiouaaaaaa') # construtor com string\n",
    "print(type(vogais_2), vogais_2)\n",
    "\n",
    "vogais_3 = set(['a', 'e', 'i', 'o', 'u']) # construtor com lista\n",
    "print(type(vogais_3), vogais_3)\n",
    "\n",
    "vogais_4 = set(('a', 'e', 'i', 'o', 'u')) # construtor com tupla\n",
    "print(type(vogais_4), vogais_4)\n",
    "\n",
    "print(set('banana'))"
   ]
  },
  {
   "cell_type": "code",
   "execution_count": null,
   "metadata": {},
   "outputs": [],
   "source": [
    "# Aplicação\n",
    "\n",
    "\"\"\" \n",
    "O poder do objeto set está em suas operações matemáticas de conjuntos. Vejamos um exemplo: uma loja de informática recebeu componentes usados de um computador para avaliar se estão com defeito. As peças que não estiverem com defeito podem ser colocadas à venda. Como, então, podemos criar uma solução em Python para resolver esse problema? A resposta é simples: usando objetos do tipo set. Observe o código a seguir.\n",
    "\"\"\"\n",
    "\n",
    "def create_report():\n",
    "    componentes_verificados = set(['caixas de som', 'cooler', 'dissipador de calor', 'cpu', 'hd', 'estabilizador', 'gabinete', 'hub', 'impressora', 'joystick', 'memória ram', 'microfone', 'modem', 'monitor', 'mouse', 'no-break', 'placa de captura', 'placa de som', 'placa de vídeo', 'placa mãe', 'scanner', 'teclado', 'webcam'])\n",
    "\n",
    "    componentes_com_defeito = set(['hd', 'monitor', 'placa de som', 'scanner'])\n",
    "    \n",
    "\n",
    "    qtde_componentes_verificados = len(componentes_verificados)\n",
    "    qtde_componentes_com_defeito = len(componentes_com_defeito)\n",
    "    \n",
    "    componentes_ok = componentes_verificados.difference(componentes_com_defeito)\n",
    "    \"\"\" Essa operação também poderia ser feita com o sinal de subtração: \n",
    "    componentes_ok = componentes_verificados - componentes_com_defeito.\n",
    "    \"\"\"\n",
    "    \n",
    "    print(f\"Foram verificados {qtde_componentes_verificados} componentes.\\n\")\n",
    "    print(f\"{qtde_componentes_com_defeito} componentes apresentaram defeito.\\n\")\n",
    "    \n",
    "    print(\"Os componentes que podem ser vendidos são:\")\n",
    "    for item in componentes_ok:\n",
    "        print(item)\n",
    "\n",
    "\n",
    "create_report()\n"
   ]
  },
  {
   "cell_type": "markdown",
   "metadata": {},
   "source": [
    "\n",
    "<link rel=\"stylesheet\" href=\"style.css\">\n",
    "\n",
    "# <h1 id=\"titulo\">mapping (Dicionarios)</h1>\n",
    "\n",
    "*As estruturas de dados que possuem um mapeamento entre uma chave e um valor são consideradas objetos do tipo mapping. Em Python, o objeto que possui essa propriedade é o dict (dicionário).*\n",
    "\n",
    "<span id=\"subtitulo\">Podemos construir dicionários em Python das seguintes maneiras:</span>\n",
    "\n",
    "* Usando um par de chaves para denotar um dict vazio: dicionario1 = {}\n",
    "* Usando um par de elementos na forma, chave : valor separados por vírgulas: dicionario2 = {'one': 1, 'two': 2, 'three': 3}\n",
    "* Usando o construtor de tipo: dict()"
   ]
  },
  {
   "cell_type": "code",
   "execution_count": null,
   "metadata": {},
   "outputs": [],
   "source": [
    "# Exemplo 1 - Criação de dicionário vazio, com atribuição posterior de chave e valor \n",
    "dici_1 = {}\n",
    "dici_1['nome'] = \"João\"\n",
    "dici_1['idade'] = 30\n",
    "\n",
    "# Exemplo 2 - Criação de dicionário usando um par elementos na forma, chave : valor\n",
    "dici_2 = {'nome': 'João', 'idade': 30}\n",
    "\n",
    "# Exemplo 3 - Criação de dicionário com uma lista de tuplas. Cada tupla representa um par chave : valor\n",
    "dici_3 = dict([('nome', \"João\"), ('idade', 30)])\n",
    "\n",
    "# Exemplo 4 - Criação de dicionário com a função built-in zip() e duas listas, uma com as chaves, outra com os valores.\n",
    "dici_4 = dict(zip(['nome', 'idade'], [\"João\", 30]))\n",
    "\n",
    "\n",
    "print(dici_1 == dici_2 == dici_3 == dici_4) # Testando se as diferentes construções resultamo em objetos iguais."
   ]
  },
  {
   "cell_type": "code",
   "execution_count": null,
   "metadata": {},
   "outputs": [],
   "source": [
    "# Funções nativas\n",
    "\n",
    "\"\"\"\n",
    "No código a seguir: \n",
    "A função keys() retorna uma lista com todas as chaves de um dicionário. \n",
    "A função values() retorna uma lista com todos os valores. \n",
    "A função items() retorna uma lista de tuplas, cada uma das quais é um par chave-valor.\n",
    "\"\"\"\n",
    "\n",
    "cadastro = {\n",
    "            'nome' : ['João', 'Ana', 'Pedro', 'Marcela'],\n",
    "            'cidade' : ['São Paulo', 'São Paulo', 'Rio de Janeiro', 'Curitiba'],\n",
    "            'idade' : [25, 33, 37, 18]\n",
    "            }\n",
    "\n",
    "print(\"len(cadastro) = \", len(cadastro))\n",
    "\n",
    "print(\"\\n cadastro.keys() = \\n\", cadastro.keys())\n",
    "print(\"\\n cadastro.values() = \\n\", cadastro.values())\n",
    "print(\"\\n cadastro.items() = \\n\", cadastro.items())\n",
    "\n",
    "print(\"\\ncadastro['nome'] = \", cadastro['nome'])\n",
    "print(\"cadastro['nome'][2] = \", cadastro['nome'][2])\n",
    "print(\"cadastro['idade'][2:] = \", cadastro['idade'][2:])"
   ]
  },
  {
   "cell_type": "code",
   "execution_count": null,
   "metadata": {},
   "outputs": [],
   "source": [
    "# Quantidade de chaves e elementos\n",
    "\n",
    "print(len(cadastro['nome']))\n",
    "print(len(cadastro['cidade']))\n",
    "print(len(cadastro['idade']))\n",
    "\n",
    "qtde_itens = sum([len(cadastro[chave]) for chave in cadastro])\n",
    "\n",
    "print(f\"\\n\\nQuantidade de elementos no dicionário = {qtde_itens}\")"
   ]
  },
  {
   "cell_type": "markdown",
   "metadata": {},
   "source": [
    "<link rel=\"stylesheet\" href=\"style.css\">\n",
    "\n",
    "# <h1 id=\"titulo\">Array numpy</h1>\n",
    "*Para utilizar a biblioteca NumPy é preciso fazer a instalação com o comando pip install numpy. Além da instalação, toda vez que for usar recusos da biblioteca, é necessário importar a biblioteca para o projeto, como o comando import numpy.*\n",
    "\n",
    "<span id=\"subtitulo\">Em Python, as tuplas podem ser construídas de três maneiras:</span>"
   ]
  }
 ],
 "metadata": {
  "kernelspec": {
   "display_name": "Python 3",
   "language": "python",
   "name": "python3"
  },
  "language_info": {
   "codemirror_mode": {
    "name": "ipython",
    "version": 3
   },
   "file_extension": ".py",
   "mimetype": "text/x-python",
   "name": "python",
   "nbconvert_exporter": "python",
   "pygments_lexer": "ipython3",
   "version": "3.12.4"
  }
 },
 "nbformat": 4,
 "nbformat_minor": 2
}
